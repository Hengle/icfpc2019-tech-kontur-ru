{
 "cells": [
  {
   "cell_type": "code",
   "execution_count": 1,
   "metadata": {
    "collapsed": true
   },
   "outputs": [],
   "source": [
    "import numpy as np\n",
    "import pandas as pd\n",
    "\n",
    "import matplotlib.pyplot as plt\n",
    "%matplotlib inline"
   ]
  },
  {
   "cell_type": "code",
   "execution_count": 2,
   "metadata": {
    "collapsed": true
   },
   "outputs": [],
   "source": [
    "import markov_clustering as mc\n",
    "import networkx as nx"
   ]
  },
  {
   "cell_type": "code",
   "execution_count": 325,
   "metadata": {},
   "outputs": [],
   "source": [
    "nodes = pd.read_json(r\"..\\bin\\Debug\\netcoreapp2.2\\maps2\\prob-300.graph\", orient='records', lines = True)"
   ]
  },
  {
   "cell_type": "code",
   "execution_count": 287,
   "metadata": {},
   "outputs": [],
   "source": [
    "nodes = nodes.sort_values('Id')"
   ]
  },
  {
   "cell_type": "code",
   "execution_count": 288,
   "metadata": {},
   "outputs": [],
   "source": [
    "graph = nx.Graph()\n",
    "for node in nodes.iterrows():\n",
    "    graph.add_star([node[1].Id] + node[1].ConnectedIds)"
   ]
  },
  {
   "cell_type": "code",
   "execution_count": 294,
   "metadata": {},
   "outputs": [],
   "source": [
    "matrix = nx.adjacency_matrix(graph, nodelist=nodes.Id)\n",
    "#result = mc.run_mcl(matrix, inflation=1.4, expansion=2, iterations=400)\n",
    "result = mc.run_mcl(matrix, inflation=1.2, expansion=2, iterations=400)\n",
    "clusters = mc.get_clusters(result) "
   ]
  },
  {
   "cell_type": "code",
   "execution_count": 295,
   "metadata": {
    "collapsed": true
   },
   "outputs": [],
   "source": [
    "def to_color(coords):\n",
    "    coords = coords.astype(int)\n",
    "    return '#' + ''.join('%02x'%i for i in coords)"
   ]
  },
  {
   "cell_type": "code",
   "execution_count": 296,
   "metadata": {},
   "outputs": [],
   "source": [
    "id_to_color = {}\n",
    "\n",
    "for cluster in clusters:\n",
    "    color = np.random.randint(128, 256, 3)\n",
    "    for node in cluster:\n",
    "        id_to_color[node] = color"
   ]
  },
  {
   "cell_type": "code",
   "execution_count": 297,
   "metadata": {
    "collapsed": true
   },
   "outputs": [],
   "source": [
    "nodes['color'] = nodes.Id.map(id_to_color)"
   ]
  },
  {
   "cell_type": "code",
   "execution_count": 331,
   "metadata": {
    "collapsed": true
   },
   "outputs": [],
   "source": [
    "plt.rcParams['figure.dpi']=200"
   ]
  },
  {
   "cell_type": "code",
   "execution_count": 332,
   "metadata": {},
   "outputs": [
    {
     "data": {
      "text/plain": [
       "<matplotlib.image.AxesImage at 0x25a629f0d68>"
      ]
     },
     "execution_count": 332,
     "metadata": {},
     "output_type": "execute_result"
    },
    {
     "data": {
      "image/png": "[encoded data removed]",
      "text/plain": [
       "<matplotlib.figure.Figure at 0x25a5f30fb00>"
      ]
     },
     "metadata": {},
     "output_type": "display_data"
    }
   ],
   "source": [
    "image = np.zeros((nodes.X.max() + 1, nodes.Y.max() + 1, 3))\n",
    "for node in nodes.iterrows():\n",
    "    image[node[1].X, node[1].Y] = np.array([254,254,254])\n",
    "plt.imshow(image[:,:,0])"
   ]
  },
  {
   "cell_type": "code",
   "execution_count": 333,
   "metadata": {},
   "outputs": [
    {
     "name": "stdout",
     "output_type": "stream",
     "text": [
      "205\n",
      "206\n",
      "207\n",
      "208\n",
      "209\n",
      "210\n",
      "211\n",
      "212\n",
      "213\n",
      "214\n",
      "215\n",
      "216\n",
      "217\n",
      "218\n",
      "219\n",
      "220\n",
      "221\n",
      "222\n",
      "223\n",
      "224\n",
      "225\n",
      "226\n",
      "227\n",
      "228\n",
      "229\n",
      "230\n",
      "231\n",
      "232\n",
      "233\n",
      "234\n",
      "235\n",
      "236\n",
      "237\n",
      "238\n",
      "239\n",
      "240\n",
      "241\n",
      "242\n",
      "243\n",
      "244\n",
      "245\n",
      "246\n",
      "247\n",
      "248\n",
      "249\n",
      "250\n",
      "251\n",
      "252\n",
      "253\n",
      "254\n",
      "255\n",
      "256\n",
      "257\n",
      "258\n",
      "259\n",
      "260\n",
      "261\n",
      "262\n",
      "263\n",
      "264\n",
      "265\n",
      "266\n",
      "267\n",
      "268\n",
      "269\n",
      "270\n",
      "271\n",
      "272\n",
      "273\n",
      "274\n",
      "275\n",
      "276\n",
      "277\n",
      "278\n",
      "279\n",
      "280\n",
      "281\n",
      "282\n",
      "283\n",
      "284\n",
      "285\n",
      "286\n",
      "287\n",
      "288\n",
      "289\n",
      "290\n",
      "291\n",
      "292\n",
      "293\n",
      "294\n",
      "295\n",
      "296\n",
      "297\n",
      "298\n",
      "299\n",
      "300\n"
     ]
    }
   ],
   "source": [
    "for i in range(205, 301):\n",
    "    print(i)\n",
    "    nodes = pd.read_json(r\"..\\bin\\Debug\\netcoreapp2.2\\maps2\\prob-\" + f\"{i:03d}\" + \".graph\", orient='records', lines = True)\n",
    "    nodes = nodes.sort_values('Id')\n",
    "    graph = nx.Graph()\n",
    "    for node in nodes.iterrows():\n",
    "        graph.add_star([node[1].Id] + node[1].ConnectedIds)\n",
    "        \n",
    "    matrix = nx.adjacency_matrix(graph, nodelist=nodes.Id)\n",
    "    result = mc.run_mcl(matrix, inflation=1.4, expansion=2, iterations=400)\n",
    "    clusters = mc.get_clusters(result) \n",
    "    \n",
    "    for clusterNum in range(len(clusters)):\n",
    "        for node in clusters[clusterNum]:\n",
    "            id_to_color[node] = clusterNum\n",
    "    nodes['cluster'] = nodes.Id.map(id_to_color)\n",
    "    nodes.to_json(r\"..\\bin\\Debug\\netcoreapp2.2\\clusters\\prob-\" + str(i) + \".clusters\", orient='records', lines = True)"
   ]
  },
  {
   "cell_type": "code",
   "execution_count": null,
   "metadata": {
    "collapsed": true
   },
   "outputs": [],
   "source": []
  }
 ],
 "metadata": {
  "kernelspec": {
   "display_name": "Python 3",
   "language": "python",
   "name": "python3"
  },
  "language_info": {
   "codemirror_mode": {
    "name": "ipython",
    "version": 3
   },
   "file_extension": ".py",
   "mimetype": "text/x-python",
   "name": "python",
   "nbconvert_exporter": "python",
   "pygments_lexer": "ipython3",
   "version": "3.6.3"
  }
 },
 "nbformat": 4,
 "nbformat_minor": 2
}
