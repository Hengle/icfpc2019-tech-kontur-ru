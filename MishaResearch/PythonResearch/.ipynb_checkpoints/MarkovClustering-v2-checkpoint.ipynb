{
 "cells": [
  {
   "cell_type": "code",
   "execution_count": 1,
   "metadata": {
    "collapsed": true
   },
   "outputs": [],
   "source": [
    "import numpy as np\n",
    "import pandas as pd\n",
    "\n",
    "import matplotlib.pyplot as plt\n",
    "%matplotlib inline"
   ]
  },
  {
   "cell_type": "code",
   "execution_count": 2,
   "metadata": {
    "collapsed": true
   },
   "outputs": [],
   "source": [
    "import markov_clustering as mc\n",
    "import networkx as nx"
   ]
  },
  {
   "cell_type": "code",
   "execution_count": 131,
   "metadata": {},
   "outputs": [],
   "source": [
    "nodes = pd.read_json(r\"..\\bin\\Debug\\netcoreapp2.2\\maps\\prob-010.graph\", orient='records', lines = True)"
   ]
  },
  {
   "cell_type": "code",
   "execution_count": 132,
   "metadata": {
    "collapsed": true
   },
   "outputs": [],
   "source": [
    "nodes = nodes.sort_values('Id')\n",
    "nodes['cluster_0'] = nodes.Id"
   ]
  },
  {
   "cell_type": "code",
   "execution_count": 155,
   "metadata": {},
   "outputs": [],
   "source": [
    "edges = pd.DataFrame(np.repeat(nodes.Id, nodes.apply(lambda x: len(x.ConnectedIds), axis = 1)))\n",
    "edges['connectedId'] = np.concatenate(nodes.ConnectedIds)"
   ]
  },
  {
   "cell_type": "code",
   "execution_count": null,
   "metadata": {
    "collapsed": true
   },
   "outputs": [],
   "source": [
    "for i in range(1, 5):\n",
    "    old_cluster_field = f\"cluster_{i}\"\n",
    "    new_cluster_field = f\"cluster_{i}\""
   ]
  },
  {
   "cell_type": "code",
   "execution_count": 133,
   "metadata": {
    "collapsed": true
   },
   "outputs": [],
   "source": [
    "graph = nx.Graph()\n",
    "for node in nodes.iterrows():\n",
    "    graph.add_star([node[1].Id] + node[1].ConnectedIds)"
   ]
  },
  {
   "cell_type": "code",
   "execution_count": 146,
   "metadata": {
    "collapsed": true
   },
   "outputs": [],
   "source": [
    "matrix = nx.adjacency_matrix(graph, nodelist=nodes.Id)\n",
    "result = mc.run_mcl(matrix, inflation=1.8, expansion=2, iterations=400)\n",
    "clusters = mc.get_clusters(result) "
   ]
  },
  {
   "cell_type": "code",
   "execution_count": 147,
   "metadata": {},
   "outputs": [],
   "source": [
    "nodes_clusters = np.zeros(nodes.shape[0], dtype=int)\n",
    "\n",
    "for i in range(len(clusters)):\n",
    "    nodes_clusters[list(clusters[i])] = i\n",
    "nodes['cluster'] = nodes_clusters\n",
    "cluster_colors = [np.random.randint(64, 256, 3) for i in range(len(clusters))]\n",
    "nodes['cluster_color'] = nodes.cluster.map(lambda i: cluster_colors[i])"
   ]
  },
  {
   "cell_type": "code",
   "execution_count": 153,
   "metadata": {},
   "outputs": [
    {
     "data": {
      "text/plain": [
       "<matplotlib.image.AxesImage at 0x18a329744e0>"
      ]
     },
     "execution_count": 153,
     "metadata": {},
     "output_type": "execute_result"
    },
    {
     "data": {
      "image/png": "[encoded data removed]",
      "text/plain": [
       "<matplotlib.figure.Figure at 0x18a3288d978>"
      ]
     },
     "metadata": {},
     "output_type": "display_data"
    }
   ],
   "source": [
    "image = np.zeros((nodes.X.max() + 1, nodes.Y.max() + 1, 3))\n",
    "for node in nodes.iterrows():\n",
    "    image[node[1].X, node[1].Y] = node[1].cluster_2_color\n",
    "plt.imshow(image[:,:])"
   ]
  },
  {
   "cell_type": "code",
   "execution_count": 149,
   "metadata": {},
   "outputs": [],
   "source": [
    "edges = pd.DataFrame(np.repeat(nodes.Id, nodes.apply(lambda x: len(x.ConnectedIds), axis = 1)))\n",
    "edges['connectedId'] = np.concatenate(nodes.ConnectedIds)"
   ]
  },
  {
   "cell_type": "code",
   "execution_count": 150,
   "metadata": {},
   "outputs": [],
   "source": [
    "id_nodes = nodes.set_index('Id')\n",
    "edges['cluster1'] = np.array(id_nodes.loc[edges.Id].cluster)\n",
    "edges['cluster2'] = np.array(id_nodes.loc[edges.connectedId].cluster)\n",
    "edges_strength=edges.groupby(['cluster1', 'cluster2']).size()\n",
    "\n",
    "matrix = nx.adjacency_matrix(graph, nodelist=np.arange(0, nodes.cluster.max()+1))\n",
    "result = mc.run_mcl(matrix, inflation=2, expansion=2, iterations=400)\n",
    "clusters = mc.get_clusters(result) "
   ]
  },
  {
   "cell_type": "code",
   "execution_count": 151,
   "metadata": {},
   "outputs": [],
   "source": [
    "nodes_clusters = np.zeros(id_nodes.loc[edges.Id].cluster.max()+1, dtype=int)\n",
    "for i in np.arange(len(clusters)):\n",
    "    nodes_clusters[list(clusters[i])] = i"
   ]
  },
  {
   "cell_type": "code",
   "execution_count": 152,
   "metadata": {},
   "outputs": [],
   "source": [
    "nodes['cluster_2'] = nodes.cluster.map(lambda i: nodes_clusters[i])\n",
    "nodes['cluster_2_color'] = nodes.cluster_2.map(lambda i: cluster_colors[i])"
   ]
  },
  {
   "cell_type": "code",
   "execution_count": null,
   "metadata": {
    "collapsed": true
   },
   "outputs": [],
   "source": []
  }
 ],
 "metadata": {
  "kernelspec": {
   "display_name": "Python 3",
   "language": "python",
   "name": "python3"
  },
  "language_info": {
   "codemirror_mode": {
    "name": "ipython",
    "version": 3
   },
   "file_extension": ".py",
   "mimetype": "text/x-python",
   "name": "python",
   "nbconvert_exporter": "python",
   "pygments_lexer": "ipython3",
   "version": "3.6.3"
  }
 },
 "nbformat": 4,
 "nbformat_minor": 2
}
