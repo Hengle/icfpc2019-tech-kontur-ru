{
 "cells": [
  {
   "cell_type": "code",
   "execution_count": 1,
   "metadata": {
    "collapsed": true
   },
   "outputs": [],
   "source": [
    "import numpy as np\n",
    "import pandas as pd\n",
    "\n",
    "import matplotlib.pyplot as plt\n",
    "%matplotlib inline"
   ]
  },
  {
   "cell_type": "code",
   "execution_count": 2,
   "metadata": {
    "collapsed": true
   },
   "outputs": [],
   "source": [
    "import markov_clustering as mc\n",
    "import networkx as nx"
   ]
  },
  {
   "cell_type": "code",
   "execution_count": 3,
   "metadata": {
    "collapsed": true
   },
   "outputs": [],
   "source": [
    "cluster_colors = [np.random.randint(64, 256, 3) for i in range(10000)]"
   ]
  },
  {
   "cell_type": "code",
   "execution_count": 420,
   "metadata": {
    "collapsed": true
   },
   "outputs": [],
   "source": [
    "nodes = pd.read_json(r\"..\\bin\\Debug\\netcoreapp2.2\\maps2\\prob-100.graph\", orient='records', lines = True)"
   ]
  },
  {
   "cell_type": "code",
   "execution_count": null,
   "metadata": {},
   "outputs": [
    {
     "name": "stdout",
     "output_type": "stream",
     "text": [
      "1\n",
      "2\n",
      "2\n",
      "67\n",
      "14\n",
      "6\n",
      "2\n",
      "3\n",
      "36\n",
      "9\n",
      "2\n",
      "4\n",
      "74\n",
      "15\n",
      "6\n",
      "2\n",
      "5\n",
      "35\n",
      "8\n",
      "2\n",
      "6\n",
      "23\n",
      "6\n",
      "2\n",
      "7\n",
      "26\n",
      "6\n",
      "2\n",
      "8\n",
      "33\n",
      "9\n",
      "4\n",
      "9\n",
      "20\n",
      "5\n",
      "10\n",
      "63\n",
      "17\n",
      "4\n",
      "11\n",
      "51\n",
      "13\n",
      "6\n",
      "2\n",
      "12\n",
      "51\n",
      "13\n",
      "5\n",
      "13\n",
      "52\n",
      "16\n",
      "4\n",
      "14\n",
      "48\n",
      "8\n",
      "3\n",
      "15\n",
      "49\n",
      "12\n",
      "4\n",
      "16\n",
      "52\n",
      "12\n",
      "4\n",
      "17\n",
      "55\n",
      "14\n",
      "6\n",
      "3\n",
      "18\n",
      "52\n",
      "12\n",
      "4\n",
      "19\n",
      "48\n",
      "12\n",
      "4\n",
      "20\n",
      "51\n",
      "14\n",
      "6\n",
      "2\n",
      "21\n",
      "142\n",
      "34\n",
      "11\n",
      "3\n",
      "22\n",
      "85\n",
      "20\n",
      "5\n",
      "23\n",
      "133\n",
      "34\n",
      "12\n",
      "4\n",
      "24\n",
      "127\n",
      "30\n",
      "10\n",
      "4\n",
      "25\n",
      "86\n",
      "18\n",
      "5\n",
      "26\n",
      "124\n",
      "38\n",
      "11\n",
      "5\n",
      "27\n",
      "162\n",
      "34\n",
      "13\n",
      "5\n",
      "28\n",
      "140\n",
      "29\n",
      "10\n",
      "4\n",
      "29\n"
     ]
    }
   ],
   "source": [
    "for p in range(1, 301):\n",
    "    print(p)\n",
    "    nodes = pd.read_json(r\"..\\bin\\Debug\\netcoreapp2.2\\maps2\\prob-\" + f\"{p:03d}\" + \".graph\", orient='records', lines = True)\n",
    "    nodes = nodes.sort_values('Id')\n",
    "    nodes['cluster_0'] = nodes.Id\n",
    "    edges = pd.DataFrame(np.repeat(nodes.Id, nodes.apply(lambda x: len(x.ConnectedIds), axis = 1)))\n",
    "    edges['connectedId'] = np.concatenate(np.array(nodes.ConnectedIds))\n",
    "    \n",
    "    clusters_count = 6\n",
    "    j=1\n",
    "    while clusters_count > 5:\n",
    "        old_cluster_field = f\"cluster_{j-1}\"\n",
    "        new_cluster_field = f\"cluster_{j}\"\n",
    "\n",
    "        id_nodes = nodes.set_index('Id')\n",
    "        edges['cluster1'] = np.array(id_nodes.loc[edges.Id][old_cluster_field])\n",
    "        edges['cluster2'] = np.array(id_nodes.loc[edges.connectedId][old_cluster_field])\n",
    "\n",
    "        edges_strength=edges.groupby(['cluster1', 'cluster2']).size().reset_index()\n",
    "        edges_strength=edges_strength[edges_strength.cluster1 != edges_strength.cluster2]\n",
    "\n",
    "        graph = nx.Graph()\n",
    "        graph.add_weighted_edges_from(edges_strength.apply(lambda x: (x.cluster1, x.cluster2,1), axis = 1))\n",
    "\n",
    "        matrix = nx.adjacency_matrix(graph, nodelist=np.arange(0, nodes[old_cluster_field].max() + 1))\n",
    "        result = mc.run_mcl(matrix, inflation=2, expansion=2, iterations=100)\n",
    "        clusters = mc.get_clusters(result)\n",
    "        clusters_count = (len(clusters))\n",
    "        print(clusters_count)\n",
    "        nodes_clusters = np.zeros(nodes[old_cluster_field].max() + 1, dtype=int)\n",
    "\n",
    "        for i in range(len(clusters)):\n",
    "            nodes_clusters[list(clusters[i])] = i\n",
    "        nodes[new_cluster_field] = nodes[old_cluster_field].map(lambda x: nodes_clusters[x])\n",
    "        nodes[new_cluster_field+'_color'] = nodes[new_cluster_field].map(lambda i: cluster_colors[i])\n",
    "\n",
    "        j += 1\n",
    "    \n",
    "    clusters_columns = [col for col in nodes.filter(like = 'cluster_').columns if not 'color' in col][1:]\n",
    "    nodes['cluster_hierarchy'] = nodes.apply(lambda x: [x[c] for c in clusters_columns],axis = 1)\n",
    "    nodes[['Id', 'X', 'Y', 'cluster_hierarchy']].to_json(r\"..\\bin\\Debug\\netcoreapp2.2\\clusters.v2\\prob-\" + str(p) + \".clusters\", orient='records', lines = True)"
   ]
  },
  {
   "cell_type": "code",
   "execution_count": 412,
   "metadata": {},
   "outputs": [
    {
     "data": {
      "image/png": "[encoded data removed]",
      "text/plain": [
       "<matplotlib.figure.Figure at 0x18a39d14a20>"
      ]
     },
     "metadata": {},
     "output_type": "display_data"
    }
   ],
   "source": [
    "for i in range(1, 5):\n",
    "    plt.subplot(2, 2, i)\n",
    "    image = np.zeros((nodes.X.max() + 1, nodes.Y.max() + 1, 3))\n",
    "    for node in nodes.iterrows():\n",
    "        image[node[1].X, node[1].Y] = node[1][f'cluster_{i}_color']\n",
    "    plt.imshow(image[:,:])\n",
    "plt.show()"
   ]
  },
  {
   "cell_type": "code",
   "execution_count": 149,
   "metadata": {
    "collapsed": true
   },
   "outputs": [],
   "source": [
    "edges = pd.DataFrame(np.repeat(nodes.Id, nodes.apply(lambda x: len(x.ConnectedIds), axis = 1)))\n",
    "edges['connectedId'] = np.concatenate(nodes.ConnectedIds)"
   ]
  },
  {
   "cell_type": "code",
   "execution_count": 150,
   "metadata": {
    "collapsed": true
   },
   "outputs": [],
   "source": [
    "id_nodes = nodes.set_index('Id')\n",
    "edges['cluster1'] = np.array(id_nodes.loc[edges.Id].cluster)\n",
    "edges['cluster2'] = np.array(id_nodes.loc[edges.connectedId].cluster)\n",
    "edges_strength=edges.groupby(['cluster1', 'cluster2']).size()\n",
    "\n",
    "matrix = nx.adjacency_matrix(graph, nodelist=np.arange(0, nodes.cluster.max()+1))\n",
    "result = mc.run_mcl(matrix, inflation=2, expansion=2, iterations=400)\n",
    "clusters = mc.get_clusters(result) "
   ]
  },
  {
   "cell_type": "code",
   "execution_count": 151,
   "metadata": {
    "collapsed": true
   },
   "outputs": [],
   "source": [
    "nodes_clusters = np.zeros(id_nodes.loc[edges.Id].cluster.max()+1, dtype=int)\n",
    "for i in np.arange(len(clusters)):\n",
    "    nodes_clusters[list(clusters[i])] = i"
   ]
  },
  {
   "cell_type": "code",
   "execution_count": 152,
   "metadata": {
    "collapsed": true
   },
   "outputs": [],
   "source": [
    "nodes['cluster_2'] = nodes.cluster.map(lambda i: nodes_clusters[i])\n",
    "nodes['cluster_2_color'] = nodes.cluster_2.map(lambda i: cluster_colors[i])"
   ]
  },
  {
   "cell_type": "code",
   "execution_count": null,
   "metadata": {
    "collapsed": true
   },
   "outputs": [],
   "source": []
  }
 ],
 "metadata": {
  "kernelspec": {
   "display_name": "Python 3",
   "language": "python",
   "name": "python3"
  },
  "language_info": {
   "codemirror_mode": {
    "name": "ipython",
    "version": 3
   },
   "file_extension": ".py",
   "mimetype": "text/x-python",
   "name": "python",
   "nbconvert_exporter": "python",
   "pygments_lexer": "ipython3",
   "version": "3.6.3"
  }
 },
 "nbformat": 4,
 "nbformat_minor": 2
}
